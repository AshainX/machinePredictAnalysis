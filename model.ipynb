{
 "cells": [
  {
   "cell_type": "markdown",
   "metadata": {},
   "source": [
    "Model Training using normal DecisionTreeClassifier"
   ]
  },
  {
   "cell_type": "code",
   "execution_count": 3,
   "metadata": {},
   "outputs": [
    {
     "name": "stdout",
     "output_type": "stream",
     "text": [
      "Model saved as pickelfile named as : 'decisontreeclassifier.pkl'\n"
     ]
    }
   ],
   "source": [
    "import pandas as pd\n",
    "from sklearn.tree import DecisionTreeClassifier\n",
    "import joblib\n",
    "\n",
    "\n",
    "path = 'data.csv'\n",
    "dataset = pd.read_csv(path)\n",
    "target = 'Downtime_Flag'\n",
    "feature = ['Temperature', 'Run_Time']\n",
    "X = dataset[feature]\n",
    "y = dataset[target]\n",
    "\n",
    "#DecisionTreeClassifier \n",
    "classifier = DecisionTreeClassifier()\n",
    "classifier.fit(X, y)\n",
    "\n",
    "\n",
    "''' --- Saving the model here ----  '''\n",
    "pickelfile = 'decisontreeclassifier.pkl'\n",
    "joblib.dump(classifier, pickelfile)\n",
    "print(f\"Model saved as pickelfile named as : '{pickelfile}'\")\n"
   ]
  },
  {
   "cell_type": "markdown",
   "metadata": {},
   "source": [
    "Model Training in Logistic Regression"
   ]
  },
  {
   "cell_type": "code",
   "execution_count": 4,
   "metadata": {},
   "outputs": [
    {
     "name": "stdout",
     "output_type": "stream",
     "text": [
      "Model saved as pickelfile named as : 'logisticregression.pkl'\n"
     ]
    }
   ],
   "source": [
    "import pandas as pd\n",
    "from sklearn.linear_model import LogisticRegression\n",
    "import joblib\n",
    "\n",
    "# Load the dataset\n",
    "path = 'data.csv'\n",
    "dataset = pd.read_csv(path)\n",
    "\n",
    "# Define target and features\n",
    "target = 'Downtime_Flag'\n",
    "feature = ['Temperature', 'Run_Time']\n",
    "X = dataset[feature]\n",
    "y = dataset[target]\n",
    "\n",
    "# Logistic Regression Classifier\n",
    "classifier = LogisticRegression()\n",
    "classifier.fit(X, y)\n",
    "\n",
    "# Saving the model\n",
    "pickelfile = 'logisticregression.pkl'\n",
    "joblib.dump(classifier, pickelfile)\n",
    "print(f\"Model saved as pickelfile named as : '{pickelfile}'\")\n"
   ]
  }
 ],
 "metadata": {
  "kernelspec": {
   "display_name": "Python 3",
   "language": "python",
   "name": "python3"
  },
  "language_info": {
   "codemirror_mode": {
    "name": "ipython",
    "version": 3
   },
   "file_extension": ".py",
   "mimetype": "text/x-python",
   "name": "python",
   "nbconvert_exporter": "python",
   "pygments_lexer": "ipython3",
   "version": "3.12.0"
  }
 },
 "nbformat": 4,
 "nbformat_minor": 2
}
